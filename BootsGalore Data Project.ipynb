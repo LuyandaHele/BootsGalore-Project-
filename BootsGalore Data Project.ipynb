{
 "cells": [
  {
   "cell_type": "code",
   "execution_count": 4,
   "id": "7fc51a3e",
   "metadata": {},
   "outputs": [],
   "source": [
    "import pandas as pd\n",
    "import numpy as np\n",
    "import matplotlib.pyplot as plt\n",
    "import seaborn as sns"
   ]
  },
  {
   "cell_type": "code",
   "execution_count": 5,
   "id": "5fac44e5",
   "metadata": {},
   "outputs": [],
   "source": [
    "df = pd.read_csv(\"BootsGalore Data Clean.csv\")"
   ]
  },
  {
   "cell_type": "code",
   "execution_count": 55,
   "id": "18149454",
   "metadata": {},
   "outputs": [
    {
     "data": {
      "text/html": [
       "<div>\n",
       "<style scoped>\n",
       "    .dataframe tbody tr th:only-of-type {\n",
       "        vertical-align: middle;\n",
       "    }\n",
       "\n",
       "    .dataframe tbody tr th {\n",
       "        vertical-align: top;\n",
       "    }\n",
       "\n",
       "    .dataframe thead th {\n",
       "        text-align: right;\n",
       "    }\n",
       "</style>\n",
       "<table border=\"1\" class=\"dataframe\">\n",
       "  <thead>\n",
       "    <tr style=\"text-align: right;\">\n",
       "      <th></th>\n",
       "      <th>Name (Instagram Profile)</th>\n",
       "      <th>BrandPreference</th>\n",
       "      <th>Size</th>\n",
       "      <th>StudType</th>\n",
       "      <th>ModernorClassicFootballBoots</th>\n",
       "      <th>ColourwayPreference</th>\n",
       "    </tr>\n",
       "  </thead>\n",
       "  <tbody>\n",
       "    <tr>\n",
       "      <th>0</th>\n",
       "      <td>Avela Cezu</td>\n",
       "      <td>Adidas</td>\n",
       "      <td>6.5</td>\n",
       "      <td>FirmGround</td>\n",
       "      <td>ClassicFootballBoots</td>\n",
       "      <td>Any</td>\n",
       "    </tr>\n",
       "    <tr>\n",
       "      <th>1</th>\n",
       "      <td>Kyle Peters</td>\n",
       "      <td>Nike</td>\n",
       "      <td>8.5</td>\n",
       "      <td>SoftGround</td>\n",
       "      <td>ClassicFootballBoots</td>\n",
       "      <td>Any</td>\n",
       "    </tr>\n",
       "    <tr>\n",
       "      <th>2</th>\n",
       "      <td>Sheldon Lloyd</td>\n",
       "      <td>Adidas</td>\n",
       "      <td>9.0</td>\n",
       "      <td>FirmGround</td>\n",
       "      <td>ClassicFootballBoots</td>\n",
       "      <td>Any</td>\n",
       "    </tr>\n",
       "    <tr>\n",
       "      <th>3</th>\n",
       "      <td>Rivaldo Fox</td>\n",
       "      <td>Nike</td>\n",
       "      <td>6.0</td>\n",
       "      <td>SoftGround</td>\n",
       "      <td>ClassicFootballBoots</td>\n",
       "      <td>Any</td>\n",
       "    </tr>\n",
       "    <tr>\n",
       "      <th>4</th>\n",
       "      <td>Sbuda Nkosi</td>\n",
       "      <td>Nike</td>\n",
       "      <td>9.5</td>\n",
       "      <td>FirmGround</td>\n",
       "      <td>ClassicFootballBoots</td>\n",
       "      <td>Any</td>\n",
       "    </tr>\n",
       "    <tr>\n",
       "      <th>5</th>\n",
       "      <td>Bunnus</td>\n",
       "      <td>Nike</td>\n",
       "      <td>5.5</td>\n",
       "      <td>FirmGround</td>\n",
       "      <td>ModernFootballBoots</td>\n",
       "      <td>Any</td>\n",
       "    </tr>\n",
       "    <tr>\n",
       "      <th>6</th>\n",
       "      <td>Trench Baller</td>\n",
       "      <td>Adidas</td>\n",
       "      <td>6.0</td>\n",
       "      <td>FirmGround</td>\n",
       "      <td>ModernFootballBoots</td>\n",
       "      <td>Any</td>\n",
       "    </tr>\n",
       "    <tr>\n",
       "      <th>7</th>\n",
       "      <td>Tabiso Mpame</td>\n",
       "      <td>NewBalance</td>\n",
       "      <td>6.0</td>\n",
       "      <td>FirmGround</td>\n",
       "      <td>ModernFootballBoots</td>\n",
       "      <td>Any</td>\n",
       "    </tr>\n",
       "    <tr>\n",
       "      <th>8</th>\n",
       "      <td>Wandile Duba</td>\n",
       "      <td>Nike</td>\n",
       "      <td>6.5</td>\n",
       "      <td>FirmGround</td>\n",
       "      <td>ModernFootballBoots</td>\n",
       "      <td>Any</td>\n",
       "    </tr>\n",
       "    <tr>\n",
       "      <th>9</th>\n",
       "      <td>Basil Mphahlele</td>\n",
       "      <td>Nike</td>\n",
       "      <td>7.0</td>\n",
       "      <td>FirmGround</td>\n",
       "      <td>ModernFootballBoots</td>\n",
       "      <td>Any</td>\n",
       "    </tr>\n",
       "  </tbody>\n",
       "</table>\n",
       "</div>"
      ],
      "text/plain": [
       "  Name (Instagram Profile) BrandPreference  Size    StudType  \\\n",
       "0               Avela Cezu          Adidas   6.5  FirmGround   \n",
       "1              Kyle Peters            Nike   8.5  SoftGround   \n",
       "2            Sheldon Lloyd          Adidas   9.0  FirmGround   \n",
       "3              Rivaldo Fox            Nike   6.0  SoftGround   \n",
       "4              Sbuda Nkosi            Nike   9.5  FirmGround   \n",
       "5                   Bunnus            Nike   5.5  FirmGround   \n",
       "6            Trench Baller          Adidas   6.0  FirmGround   \n",
       "7             Tabiso Mpame      NewBalance   6.0  FirmGround   \n",
       "8             Wandile Duba            Nike   6.5  FirmGround   \n",
       "9          Basil Mphahlele            Nike   7.0  FirmGround   \n",
       "\n",
       "  ModernorClassicFootballBoots ColourwayPreference  \n",
       "0         ClassicFootballBoots                 Any  \n",
       "1         ClassicFootballBoots                 Any  \n",
       "2         ClassicFootballBoots                 Any  \n",
       "3         ClassicFootballBoots                 Any  \n",
       "4         ClassicFootballBoots                 Any  \n",
       "5          ModernFootballBoots                 Any  \n",
       "6          ModernFootballBoots                 Any  \n",
       "7          ModernFootballBoots                 Any  \n",
       "8          ModernFootballBoots                 Any  \n",
       "9          ModernFootballBoots                 Any  "
      ]
     },
     "execution_count": 55,
     "metadata": {},
     "output_type": "execute_result"
    }
   ],
   "source": [
    "df.head(10)"
   ]
  },
  {
   "cell_type": "code",
   "execution_count": 7,
   "id": "112160d6",
   "metadata": {},
   "outputs": [
    {
     "name": "stdout",
     "output_type": "stream",
     "text": [
      "<class 'pandas.core.frame.DataFrame'>\n",
      "RangeIndex: 138 entries, 0 to 137\n",
      "Data columns (total 6 columns):\n",
      " #   Column                        Non-Null Count  Dtype  \n",
      "---  ------                        --------------  -----  \n",
      " 0   Name (Instagram Profile)      138 non-null    object \n",
      " 1   BrandPreference               138 non-null    object \n",
      " 2   Size                          138 non-null    float64\n",
      " 3   StudType                      138 non-null    object \n",
      " 4   ModernorClassicFootballBoots  138 non-null    object \n",
      " 5   ColourwayPreference           138 non-null    object \n",
      "dtypes: float64(1), object(5)\n",
      "memory usage: 6.6+ KB\n"
     ]
    }
   ],
   "source": [
    "df.info()"
   ]
  },
  {
   "cell_type": "code",
   "execution_count": 8,
   "id": "beb1748e",
   "metadata": {},
   "outputs": [],
   "source": [
    "Number_of_Selected_Sizes = df['Size'].value_counts()"
   ]
  },
  {
   "cell_type": "code",
   "execution_count": 9,
   "id": "41bc95a2",
   "metadata": {},
   "outputs": [
    {
     "data": {
      "text/plain": [
       "<Axes: xlabel='Size', ylabel='count'>"
      ]
     },
     "execution_count": 9,
     "metadata": {},
     "output_type": "execute_result"
    },
    {
     "data": {
      "image/png": "[encoded data removed]",
      "text/plain": [
       "<Figure size 640x480 with 1 Axes>"
      ]
     },
     "metadata": {},
     "output_type": "display_data"
    }
   ],
   "source": [
    "sns.countplot(data=df,x='Size')"
   ]
  },
  {
   "cell_type": "code",
   "execution_count": 10,
   "id": "f4f39484",
   "metadata": {},
   "outputs": [],
   "source": [
    "Number_of_ColourwayPreference_Selected = df['ColourwayPreference'].value_counts()"
   ]
  },
  {
   "cell_type": "code",
   "execution_count": 11,
   "id": "bba3339b",
   "metadata": {},
   "outputs": [
    {
     "data": {
      "text/plain": [
       "<Axes: xlabel='ColourwayPreference', ylabel='count'>"
      ]
     },
     "execution_count": 11,
     "metadata": {},
     "output_type": "execute_result"
    },
    {
     "data": {
      "image/png": "[encoded data removed]",
      "text/plain": [
       "<Figure size 640x480 with 1 Axes>"
      ]
     },
     "metadata": {},
     "output_type": "display_data"
    }
   ],
   "source": [
    "sns.countplot(data=df,x='ColourwayPreference', order = sorted(df['ColourwayPreference'].unique()))"
   ]
  },
  {
   "cell_type": "code",
   "execution_count": 12,
   "id": "4a1460c7",
   "metadata": {},
   "outputs": [],
   "source": [
    "Number_of_selected_Stud_Type = df['StudType'].value_counts()"
   ]
  },
  {
   "cell_type": "code",
   "execution_count": 13,
   "id": "ccc108ca",
   "metadata": {},
   "outputs": [
    {
     "data": {
      "text/plain": [
       "<Axes: xlabel='StudType', ylabel='count'>"
      ]
     },
     "execution_count": 13,
     "metadata": {},
     "output_type": "execute_result"
    },
    {
     "data": {
      "image/png": "[encoded data removed]",
      "text/plain": [
       "<Figure size 640x480 with 1 Axes>"
      ]
     },
     "metadata": {},
     "output_type": "display_data"
    }
   ],
   "source": [
    "sns.countplot(data=df,x='StudType')"
   ]
  },
  {
   "cell_type": "code",
   "execution_count": 14,
   "id": "0c7fcc98",
   "metadata": {},
   "outputs": [],
   "source": [
    "Number_of_Brand_Preference_Selected = df['BrandPreference'].value_counts()"
   ]
  },
  {
   "cell_type": "code",
   "execution_count": 15,
   "id": "38399d56",
   "metadata": {},
   "outputs": [
    {
     "data": {
      "text/plain": [
       "<Axes: xlabel='BrandPreference', ylabel='count'>"
      ]
     },
     "execution_count": 15,
     "metadata": {},
     "output_type": "execute_result"
    },
    {
     "data": {
      "image/png": "[encoded data removed]",
      "text/plain": [
       "<Figure size 640x480 with 1 Axes>"
      ]
     },
     "metadata": {},
     "output_type": "display_data"
    }
   ],
   "source": [
    "sns.countplot(data=df,x='BrandPreference', order = sorted(df['BrandPreference'].unique()))"
   ]
  },
  {
   "cell_type": "code",
   "execution_count": 16,
   "id": "c0c338e0",
   "metadata": {},
   "outputs": [
    {
     "data": {
      "text/plain": [
       "Name (Instagram Profile)        0\n",
       "BrandPreference                 0\n",
       "Size                            0\n",
       "StudType                        0\n",
       "ModernorClassicFootballBoots    0\n",
       "ColourwayPreference             0\n",
       "dtype: int64"
      ]
     },
     "execution_count": 16,
     "metadata": {},
     "output_type": "execute_result"
    }
   ],
   "source": [
    "df.isnull().sum()"
   ]
  },
  {
   "cell_type": "code",
   "execution_count": 17,
   "id": "5080b5ae",
   "metadata": {},
   "outputs": [],
   "source": [
    "#Size DataFrame\n",
    "Size = pd.Series(['UK5','UK5,5','UK6','UK6,5','UK7','UK7,5','UK8','UK8,5','UK9','UK9,5','UK10','UK10,5','UK11'])\n",
    "Count = pd.Series([1,3,8,4,21,14,23,18,25,6,7,5,3])\n",
    "data = {'Sizes':Size, 'Number': Count}\n",
    "df_Number_of_Selected_Sizes = pd.DataFrame(data)"
   ]
  },
  {
   "cell_type": "code",
   "execution_count": 18,
   "id": "8f3cbed8",
   "metadata": {},
   "outputs": [
    {
     "data": {
      "text/html": [
       "<div>\n",
       "<style scoped>\n",
       "    .dataframe tbody tr th:only-of-type {\n",
       "        vertical-align: middle;\n",
       "    }\n",
       "\n",
       "    .dataframe tbody tr th {\n",
       "        vertical-align: top;\n",
       "    }\n",
       "\n",
       "    .dataframe thead th {\n",
       "        text-align: right;\n",
       "    }\n",
       "</style>\n",
       "<table border=\"1\" class=\"dataframe\">\n",
       "  <thead>\n",
       "    <tr style=\"text-align: right;\">\n",
       "      <th></th>\n",
       "      <th>Sizes</th>\n",
       "      <th>Number</th>\n",
       "    </tr>\n",
       "  </thead>\n",
       "  <tbody>\n",
       "    <tr>\n",
       "      <th>0</th>\n",
       "      <td>UK5</td>\n",
       "      <td>1</td>\n",
       "    </tr>\n",
       "    <tr>\n",
       "      <th>1</th>\n",
       "      <td>UK5,5</td>\n",
       "      <td>3</td>\n",
       "    </tr>\n",
       "    <tr>\n",
       "      <th>2</th>\n",
       "      <td>UK6</td>\n",
       "      <td>8</td>\n",
       "    </tr>\n",
       "    <tr>\n",
       "      <th>3</th>\n",
       "      <td>UK6,5</td>\n",
       "      <td>4</td>\n",
       "    </tr>\n",
       "    <tr>\n",
       "      <th>4</th>\n",
       "      <td>UK7</td>\n",
       "      <td>21</td>\n",
       "    </tr>\n",
       "    <tr>\n",
       "      <th>5</th>\n",
       "      <td>UK7,5</td>\n",
       "      <td>14</td>\n",
       "    </tr>\n",
       "    <tr>\n",
       "      <th>6</th>\n",
       "      <td>UK8</td>\n",
       "      <td>23</td>\n",
       "    </tr>\n",
       "    <tr>\n",
       "      <th>7</th>\n",
       "      <td>UK8,5</td>\n",
       "      <td>18</td>\n",
       "    </tr>\n",
       "    <tr>\n",
       "      <th>8</th>\n",
       "      <td>UK9</td>\n",
       "      <td>25</td>\n",
       "    </tr>\n",
       "    <tr>\n",
       "      <th>9</th>\n",
       "      <td>UK9,5</td>\n",
       "      <td>6</td>\n",
       "    </tr>\n",
       "    <tr>\n",
       "      <th>10</th>\n",
       "      <td>UK10</td>\n",
       "      <td>7</td>\n",
       "    </tr>\n",
       "    <tr>\n",
       "      <th>11</th>\n",
       "      <td>UK10,5</td>\n",
       "      <td>5</td>\n",
       "    </tr>\n",
       "    <tr>\n",
       "      <th>12</th>\n",
       "      <td>UK11</td>\n",
       "      <td>3</td>\n",
       "    </tr>\n",
       "  </tbody>\n",
       "</table>\n",
       "</div>"
      ],
      "text/plain": [
       "     Sizes  Number\n",
       "0      UK5       1\n",
       "1    UK5,5       3\n",
       "2      UK6       8\n",
       "3    UK6,5       4\n",
       "4      UK7      21\n",
       "5    UK7,5      14\n",
       "6      UK8      23\n",
       "7    UK8,5      18\n",
       "8      UK9      25\n",
       "9    UK9,5       6\n",
       "10    UK10       7\n",
       "11  UK10,5       5\n",
       "12    UK11       3"
      ]
     },
     "execution_count": 18,
     "metadata": {},
     "output_type": "execute_result"
    }
   ],
   "source": [
    "df_Number_of_Selected_Sizes"
   ]
  },
  {
   "cell_type": "code",
   "execution_count": 19,
   "id": "88afc20e",
   "metadata": {},
   "outputs": [
    {
     "data": {
      "text/plain": [
       "ColourwayPreference\n",
       "Any              79\n",
       "BrightColours    32\n",
       "DarkColours      27\n",
       "Name: count, dtype: int64"
      ]
     },
     "execution_count": 19,
     "metadata": {},
     "output_type": "execute_result"
    }
   ],
   "source": [
    "Number_of_ColourwayPreference_Selected"
   ]
  },
  {
   "cell_type": "code",
   "execution_count": 48,
   "id": "4556014d",
   "metadata": {},
   "outputs": [],
   "source": [
    "#Number_of_Colourwary DataFrame\n",
    "Colour_Choice = pd.Series(['Any','BrightColours','DarkColours'])\n",
    "Count = pd.Series([79,32,27])\n",
    "data = {'Colour Preference':Colour_Choice, 'Total': Count}\n",
    "df_Number_of_ColourwayPreference_Selected = pd.DataFrame(data)"
   ]
  },
  {
   "cell_type": "code",
   "execution_count": 49,
   "id": "df5b4fb3",
   "metadata": {},
   "outputs": [
    {
     "data": {
      "text/html": [
       "<div>\n",
       "<style scoped>\n",
       "    .dataframe tbody tr th:only-of-type {\n",
       "        vertical-align: middle;\n",
       "    }\n",
       "\n",
       "    .dataframe tbody tr th {\n",
       "        vertical-align: top;\n",
       "    }\n",
       "\n",
       "    .dataframe thead th {\n",
       "        text-align: right;\n",
       "    }\n",
       "</style>\n",
       "<table border=\"1\" class=\"dataframe\">\n",
       "  <thead>\n",
       "    <tr style=\"text-align: right;\">\n",
       "      <th></th>\n",
       "      <th>Colour Preference</th>\n",
       "      <th>Total</th>\n",
       "    </tr>\n",
       "  </thead>\n",
       "  <tbody>\n",
       "    <tr>\n",
       "      <th>0</th>\n",
       "      <td>Any</td>\n",
       "      <td>79</td>\n",
       "    </tr>\n",
       "    <tr>\n",
       "      <th>1</th>\n",
       "      <td>BrightColours</td>\n",
       "      <td>32</td>\n",
       "    </tr>\n",
       "    <tr>\n",
       "      <th>2</th>\n",
       "      <td>DarkColours</td>\n",
       "      <td>27</td>\n",
       "    </tr>\n",
       "  </tbody>\n",
       "</table>\n",
       "</div>"
      ],
      "text/plain": [
       "  Colour Preference  Total\n",
       "0               Any     79\n",
       "1     BrightColours     32\n",
       "2       DarkColours     27"
      ]
     },
     "execution_count": 49,
     "metadata": {},
     "output_type": "execute_result"
    }
   ],
   "source": [
    "df_Number_of_ColourwayPreference_Selected"
   ]
  },
  {
   "cell_type": "code",
   "execution_count": 22,
   "id": "2ccd1e28",
   "metadata": {},
   "outputs": [
    {
     "data": {
      "text/plain": [
       "StudType\n",
       "FirmGround    105\n",
       "SoftGround     33\n",
       "Name: count, dtype: int64"
      ]
     },
     "execution_count": 22,
     "metadata": {},
     "output_type": "execute_result"
    }
   ],
   "source": [
    "Number_of_selected_Stud_Type"
   ]
  },
  {
   "cell_type": "code",
   "execution_count": 46,
   "id": "9fabec20",
   "metadata": {},
   "outputs": [],
   "source": [
    "#Stud Type DataFrame \n",
    "Stud_Type = pd.Series(['FirmGround','SoftGround'])\n",
    "Count = pd.Series([105,33])\n",
    "data = {'Stud Type': Stud_Type, 'Total': Count}\n",
    "df_Number_of_Stud_Type_Selected = pd.DataFrame(data)"
   ]
  },
  {
   "cell_type": "code",
   "execution_count": 47,
   "id": "85711b97",
   "metadata": {},
   "outputs": [
    {
     "data": {
      "text/html": [
       "<div>\n",
       "<style scoped>\n",
       "    .dataframe tbody tr th:only-of-type {\n",
       "        vertical-align: middle;\n",
       "    }\n",
       "\n",
       "    .dataframe tbody tr th {\n",
       "        vertical-align: top;\n",
       "    }\n",
       "\n",
       "    .dataframe thead th {\n",
       "        text-align: right;\n",
       "    }\n",
       "</style>\n",
       "<table border=\"1\" class=\"dataframe\">\n",
       "  <thead>\n",
       "    <tr style=\"text-align: right;\">\n",
       "      <th></th>\n",
       "      <th>Stud Type</th>\n",
       "      <th>Total</th>\n",
       "    </tr>\n",
       "  </thead>\n",
       "  <tbody>\n",
       "    <tr>\n",
       "      <th>0</th>\n",
       "      <td>FirmGround</td>\n",
       "      <td>105</td>\n",
       "    </tr>\n",
       "    <tr>\n",
       "      <th>1</th>\n",
       "      <td>SoftGround</td>\n",
       "      <td>33</td>\n",
       "    </tr>\n",
       "  </tbody>\n",
       "</table>\n",
       "</div>"
      ],
      "text/plain": [
       "    Stud Type  Total\n",
       "0  FirmGround    105\n",
       "1  SoftGround     33"
      ]
     },
     "execution_count": 47,
     "metadata": {},
     "output_type": "execute_result"
    }
   ],
   "source": [
    "df_Number_of_Stud_Type_Selected"
   ]
  },
  {
   "cell_type": "code",
   "execution_count": 25,
   "id": "0abe4ee3",
   "metadata": {},
   "outputs": [
    {
     "data": {
      "text/plain": [
       "BrandPreference\n",
       "Nike          67\n",
       "Adidas        35\n",
       "Puma          32\n",
       "NewBalance     4\n",
       "Name: count, dtype: int64"
      ]
     },
     "execution_count": 25,
     "metadata": {},
     "output_type": "execute_result"
    }
   ],
   "source": [
    "Number_of_Brand_Preference_Selected"
   ]
  },
  {
   "cell_type": "code",
   "execution_count": 44,
   "id": "26018398",
   "metadata": {},
   "outputs": [],
   "source": [
    "#Brand Preference DataFrame \n",
    "Brand_Preference = pd.Series(['Nike','Adidas','Puma','NewBalance'])\n",
    "Count = pd.Series([67,35,32,4])\n",
    "data = {'Brand Preference': Brand_Preference, 'Total': Count}\n",
    "df_Number_of_Brand_Preference_Selected = pd.DataFrame(data)"
   ]
  },
  {
   "cell_type": "code",
   "execution_count": 45,
   "id": "2d2bf177",
   "metadata": {},
   "outputs": [
    {
     "data": {
      "text/html": [
       "<div>\n",
       "<style scoped>\n",
       "    .dataframe tbody tr th:only-of-type {\n",
       "        vertical-align: middle;\n",
       "    }\n",
       "\n",
       "    .dataframe tbody tr th {\n",
       "        vertical-align: top;\n",
       "    }\n",
       "\n",
       "    .dataframe thead th {\n",
       "        text-align: right;\n",
       "    }\n",
       "</style>\n",
       "<table border=\"1\" class=\"dataframe\">\n",
       "  <thead>\n",
       "    <tr style=\"text-align: right;\">\n",
       "      <th></th>\n",
       "      <th>Brand Preference</th>\n",
       "      <th>Total</th>\n",
       "    </tr>\n",
       "  </thead>\n",
       "  <tbody>\n",
       "    <tr>\n",
       "      <th>0</th>\n",
       "      <td>Nike</td>\n",
       "      <td>67</td>\n",
       "    </tr>\n",
       "    <tr>\n",
       "      <th>1</th>\n",
       "      <td>Adidas</td>\n",
       "      <td>35</td>\n",
       "    </tr>\n",
       "    <tr>\n",
       "      <th>2</th>\n",
       "      <td>Puma</td>\n",
       "      <td>32</td>\n",
       "    </tr>\n",
       "    <tr>\n",
       "      <th>3</th>\n",
       "      <td>NewBalance</td>\n",
       "      <td>4</td>\n",
       "    </tr>\n",
       "  </tbody>\n",
       "</table>\n",
       "</div>"
      ],
      "text/plain": [
       "  Brand Preference  Total\n",
       "0             Nike     67\n",
       "1           Adidas     35\n",
       "2             Puma     32\n",
       "3       NewBalance      4"
      ]
     },
     "execution_count": 45,
     "metadata": {},
     "output_type": "execute_result"
    }
   ],
   "source": [
    "df_Number_of_Brand_Preference_Selected"
   ]
  },
  {
   "cell_type": "code",
   "execution_count": 37,
   "id": "83e4e1de",
   "metadata": {},
   "outputs": [],
   "source": [
    "Number_of_ModernorClassicFootballBoots = df['ModernorClassicFootballBoots'].value_counts()"
   ]
  },
  {
   "cell_type": "code",
   "execution_count": 39,
   "id": "6f4cb5fa",
   "metadata": {},
   "outputs": [
    {
     "data": {
      "text/plain": [
       "<Axes: xlabel='ModernorClassicFootballBoots', ylabel='count'>"
      ]
     },
     "execution_count": 39,
     "metadata": {},
     "output_type": "execute_result"
    },
    {
     "data": {
      "image/png": "[encoded data removed]",
      "text/plain": [
       "<Figure size 640x480 with 1 Axes>"
      ]
     },
     "metadata": {},
     "output_type": "display_data"
    }
   ],
   "source": [
    "sns.countplot(data=df, x='ModernorClassicFootballBoots',order = sorted(df['ModernorClassicFootballBoots'].unique())) "
   ]
  },
  {
   "cell_type": "code",
   "execution_count": 38,
   "id": "f9092d49",
   "metadata": {},
   "outputs": [
    {
     "data": {
      "text/plain": [
       "ModernorClassicFootballBoots\n",
       "ModernFootballBoots             110\n",
       "ClassicFootballBoots             17\n",
       "ModernorClassicFootballBoots     11\n",
       "Name: count, dtype: int64"
      ]
     },
     "execution_count": 38,
     "metadata": {},
     "output_type": "execute_result"
    }
   ],
   "source": [
    "Number_of_ModernorClassicFootballBoots"
   ]
  },
  {
   "cell_type": "code",
   "execution_count": 42,
   "id": "e72ddcb4",
   "metadata": {},
   "outputs": [],
   "source": [
    "#ModernorClassicFootballBoots\n",
    "ModernorClassic = pd.Series(['ModernFootballBoots','ClassicFootballBoots','ModernorClassicFootballBoots'])\n",
    "Count = pd.Series([110,17,11])\n",
    "data = {'Modern or Classic Football Boots': ModernorClassic, 'Total': Count}\n",
    "df_Number_of_ModernorClassicFootballBoots = pd.DataFrame(data)"
   ]
  },
  {
   "cell_type": "code",
   "execution_count": 43,
   "id": "08ce659b",
   "metadata": {},
   "outputs": [
    {
     "data": {
      "text/html": [
       "<div>\n",
       "<style scoped>\n",
       "    .dataframe tbody tr th:only-of-type {\n",
       "        vertical-align: middle;\n",
       "    }\n",
       "\n",
       "    .dataframe tbody tr th {\n",
       "        vertical-align: top;\n",
       "    }\n",
       "\n",
       "    .dataframe thead th {\n",
       "        text-align: right;\n",
       "    }\n",
       "</style>\n",
       "<table border=\"1\" class=\"dataframe\">\n",
       "  <thead>\n",
       "    <tr style=\"text-align: right;\">\n",
       "      <th></th>\n",
       "      <th>Modern or Classic Football Boots</th>\n",
       "      <th>Total</th>\n",
       "    </tr>\n",
       "  </thead>\n",
       "  <tbody>\n",
       "    <tr>\n",
       "      <th>0</th>\n",
       "      <td>ModernFootballBoots</td>\n",
       "      <td>110</td>\n",
       "    </tr>\n",
       "    <tr>\n",
       "      <th>1</th>\n",
       "      <td>ClassicFootballBoots</td>\n",
       "      <td>17</td>\n",
       "    </tr>\n",
       "    <tr>\n",
       "      <th>2</th>\n",
       "      <td>ModernorClassicFootballBoots</td>\n",
       "      <td>11</td>\n",
       "    </tr>\n",
       "  </tbody>\n",
       "</table>\n",
       "</div>"
      ],
      "text/plain": [
       "  Modern or Classic Football Boots  Total\n",
       "0              ModernFootballBoots    110\n",
       "1             ClassicFootballBoots     17\n",
       "2     ModernorClassicFootballBoots     11"
      ]
     },
     "execution_count": 43,
     "metadata": {},
     "output_type": "execute_result"
    }
   ],
   "source": [
    "df_Number_of_ModernorClassicFootballBoots"
   ]
  },
  {
   "cell_type": "code",
   "execution_count": 58,
   "id": "1b6b2273",
   "metadata": {},
   "outputs": [],
   "source": [
    "Number_of_Clients = df['Name (Instagram Profile)'].count().sum()"
   ]
  },
  {
   "cell_type": "code",
   "execution_count": 59,
   "id": "1e3466f9",
   "metadata": {},
   "outputs": [
    {
     "ename": "NameError",
     "evalue": "name 'df_Number_of_Clients' is not defined",
     "output_type": "error",
     "traceback": [
      "\u001b[1;31m---------------------------------------------------------------------------\u001b[0m",
      "\u001b[1;31mNameError\u001b[0m                                 Traceback (most recent call last)",
      "Cell \u001b[1;32mIn[59], line 4\u001b[0m\n\u001b[0;32m      2\u001b[0m Count \u001b[38;5;241m=\u001b[39m pd\u001b[38;5;241m.\u001b[39mSeries([\u001b[38;5;241m138\u001b[39m])\n\u001b[0;32m      3\u001b[0m data \u001b[38;5;241m=\u001b[39m {\u001b[38;5;124m\"\u001b[39m\u001b[38;5;124mCurrent Clients\u001b[39m\u001b[38;5;124m\"\u001b[39m: Customers, \u001b[38;5;124m'\u001b[39m\u001b[38;5;124mCurrent Total\u001b[39m\u001b[38;5;124m'\u001b[39m: Count}\n\u001b[1;32m----> 4\u001b[0m df_Number_of_Clients\n",
      "\u001b[1;31mNameError\u001b[0m: name 'df_Number_of_Clients' is not defined"
     ]
    }
   ],
   "source": [
    "Customers = pd.Series(['Name (Instagram Profile)'])\n",
    "Count = pd.Series([138])\n",
    "data = {\"Current Clients\": Customers, 'Current Total': Count}\n",
    "df_Number_of_Clients"
   ]
  },
  {
   "cell_type": "code",
   "execution_count": null,
   "id": "11ebaeec",
   "metadata": {},
   "outputs": [],
   "source": []
  },
  {
   "cell_type": "code",
   "execution_count": null,
   "id": "a260e922",
   "metadata": {},
   "outputs": [],
   "source": []
  },
  {
   "cell_type": "code",
   "execution_count": null,
   "id": "8778c6bf",
   "metadata": {},
   "outputs": [],
   "source": []
  },
  {
   "cell_type": "code",
   "execution_count": null,
   "id": "4186a365",
   "metadata": {},
   "outputs": [],
   "source": []
  }
 ],
 "metadata": {
  "kernelspec": {
   "display_name": "Python 3 (ipykernel)",
   "language": "python",
   "name": "python3"
  },
  "language_info": {
   "codemirror_mode": {
    "name": "ipython",
    "version": 3
   },
   "file_extension": ".py",
   "mimetype": "text/x-python",
   "name": "python",
   "nbconvert_exporter": "python",
   "pygments_lexer": "ipython3",
   "version": "3.11.5"
  }
 },
 "nbformat": 4,
 "nbformat_minor": 5
}
